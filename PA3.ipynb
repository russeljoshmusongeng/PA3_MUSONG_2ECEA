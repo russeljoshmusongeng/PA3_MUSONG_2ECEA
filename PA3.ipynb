{
 "cells": [
  {
   "cell_type": "markdown",
   "id": "42d3c299-5ff3-4a67-8918-ec985489fe56",
   "metadata": {},
   "source": [
    "PROBLEM 1"
   ]
  },
  {
   "cell_type": "code",
   "execution_count": 1,
   "id": "78a1f02f-d4c2-4a98-bb96-62d1e6948ec7",
   "metadata": {},
   "outputs": [],
   "source": [
    "import pandas as pd"
   ]
  },
  {
   "cell_type": "code",
   "execution_count": 2,
   "id": "1897e8d2-5511-4e7b-a8db-33c42f401be3",
   "metadata": {},
   "outputs": [
    {
     "name": "stdout",
     "output_type": "stream",
     "text": [
      "First 5 Rows\n",
      "               Model   mpg  cyl   disp   hp  drat     wt   qsec  vs  am  gear  \\\n",
      "0          Mazda RX4  21.0    6  160.0  110  3.90  2.620  16.46   0   1     4   \n",
      "1      Mazda RX4 Wag  21.0    6  160.0  110  3.90  2.875  17.02   0   1     4   \n",
      "2         Datsun 710  22.8    4  108.0   93  3.85  2.320  18.61   1   1     4   \n",
      "3     Hornet 4 Drive  21.4    6  258.0  110  3.08  3.215  19.44   1   0     3   \n",
      "4  Hornet Sportabout  18.7    8  360.0  175  3.15  3.440  17.02   0   0     3   \n",
      "\n",
      "   carb  \n",
      "0     4  \n",
      "1     4  \n",
      "2     1  \n",
      "3     1  \n",
      "4     2  \n",
      "\n",
      " Last 5 Rows\n",
      "             Model   mpg  cyl   disp   hp  drat     wt  qsec  vs  am  gear  \\\n",
      "27    Lotus Europa  30.4    4   95.1  113  3.77  1.513  16.9   1   1     5   \n",
      "28  Ford Pantera L  15.8    8  351.0  264  4.22  3.170  14.5   0   1     5   \n",
      "29    Ferrari Dino  19.7    6  145.0  175  3.62  2.770  15.5   0   1     5   \n",
      "30   Maserati Bora  15.0    8  301.0  335  3.54  3.570  14.6   0   1     5   \n",
      "31      Volvo 142E  21.4    4  121.0  109  4.11  2.780  18.6   1   1     4   \n",
      "\n",
      "    carb  \n",
      "27     2  \n",
      "28     4  \n",
      "29     6  \n",
      "30     8  \n",
      "31     2  \n"
     ]
    }
   ],
   "source": [
    "# a) Load CSV into DataFrame named cars\n",
    "cars = pd.read_csv(\"http://bit.ly/Cars_file\")\n",
    "\n",
    "# b) Display the first five and last five rows\n",
    "print(\"First 5 Rows\")\n",
    "print(cars.head())\n",
    "\n",
    "print(\"\\n Last 5 Rows\")\n",
    "print(cars.tail())"
   ]
  },
  {
   "cell_type": "markdown",
   "id": "ed200915-f053-40f7-93be-603d9838f911",
   "metadata": {},
   "source": [
    "PROBLEM 2"
   ]
  },
  {
   "cell_type": "code",
   "execution_count": 3,
   "id": "3b6a7d3a-b2d0-4ea2-baa4-a6259853bcaa",
   "metadata": {},
   "outputs": [
    {
     "name": "stdout",
     "output_type": "stream",
     "text": [
      "First 5 rows, odd-numbered columns\n",
      "               Model  cyl   hp     wt  vs  gear\n",
      "0          Mazda RX4    6  110  2.620   0     4\n",
      "1      Mazda RX4 Wag    6  110  2.875   0     4\n",
      "2         Datsun 710    4   93  2.320   1     4\n",
      "3     Hornet 4 Drive    6  110  3.215   1     3\n",
      "4  Hornet Sportabout    8  175  3.440   0     3\n",
      "\n",
      "Row for Model == 'Mazda RX4'\n",
      "       Model   mpg  cyl   disp   hp  drat    wt   qsec  vs  am  gear  carb\n",
      "0  Mazda RX4  21.0    6  160.0  110   3.9  2.62  16.46   0   1     4     4\n",
      "\n",
      "Cylinders of 'Camaro Z28'\n",
      "         Model  cyl\n",
      "23  Camaro Z28    8\n",
      "\n",
      "cyl and gear for selected models\n",
      "             Model  cyl  gear\n",
      "1    Mazda RX4 Wag    6     4\n",
      "18     Honda Civic    4     4\n",
      "28  Ford Pantera L    8     5\n"
     ]
    }
   ],
   "source": [
    "cars = pd.read_csv(\"http://bit.ly/Cars_file\")\n",
    "\n",
    "# a) First five rows with odd-numbered columns (1-indexed: 1,3,5,7…)\n",
    "#In pandas (0-indexed), that is columns 0,2,4,6… via iloc and step 2.\n",
    "print(\"First 5 rows, odd-numbered columns\")\n",
    "print(cars.iloc[:5, ::2])\n",
    "\n",
    "# b) Row that contains Model == 'Mazda RX4' (label selection)\n",
    "print(\"\\nRow for Model == 'Mazda RX4'\")\n",
    "print(cars.loc[cars[\"Model\"] == \"Mazda RX4\"])\n",
    "\n",
    "# c) Cylinders of 'Camaro Z28'\n",
    "print(\"\\nCylinders of 'Camaro Z28'\")\n",
    "print(cars.loc[cars[\"Model\"] == \"Camaro Z28\", [\"Model\", \"cyl\"]])\n",
    "\n",
    "# d) cyl and gear for 'Mazda RX4 Wag', 'Ford Pantera L', 'Honda Civic'\n",
    "print(\"\\ncyl and gear for selected models\")\n",
    "sel = (cars[\"Model\"] == \"Mazda RX4 Wag\") | (cars[\"Model\"] == \"Ford Pantera L\") | (cars[\"Model\"] == \"Honda Civic\")\n",
    "print(cars.loc[sel, [\"Model\", \"cyl\", \"gear\"]])"
   ]
  },
  {
   "cell_type": "code",
   "execution_count": null,
   "id": "f31fadab-6934-411b-975e-5f043978a484",
   "metadata": {},
   "outputs": [],
   "source": []
  }
 ],
 "metadata": {
  "kernelspec": {
   "display_name": "Python 3 (ipykernel)",
   "language": "python",
   "name": "python3"
  },
  "language_info": {
   "codemirror_mode": {
    "name": "ipython",
    "version": 3
   },
   "file_extension": ".py",
   "mimetype": "text/x-python",
   "name": "python",
   "nbconvert_exporter": "python",
   "pygments_lexer": "ipython3",
   "version": "3.13.5"
  }
 },
 "nbformat": 4,
 "nbformat_minor": 5
}
